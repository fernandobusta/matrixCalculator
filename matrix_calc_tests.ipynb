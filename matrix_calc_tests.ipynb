{
 "cells": [
  {
   "cell_type": "code",
   "execution_count": 1,
   "id": "706ed3f5-5375-456f-bc2e-d6910690fdd4",
   "metadata": {},
   "outputs": [],
   "source": [
    "l = [1, 2, 3]\n",
    "l2 = [3, 1, 3]"
   ]
  },
  {
   "cell_type": "code",
   "execution_count": 2,
   "id": "2788940e-04cb-4120-963c-b4cfc0318485",
   "metadata": {},
   "outputs": [
    {
     "name": "stdout",
     "output_type": "stream",
     "text": [
      "0\n",
      "1\n",
      "2\n"
     ]
    }
   ],
   "source": [
    "for i in range(len(l)):\n",
    "    print(i)"
   ]
  },
  {
   "cell_type": "code",
   "execution_count": 5,
   "id": "990dd504-762b-4761-be7b-35e80207c3e8",
   "metadata": {},
   "outputs": [
    {
     "data": {
      "text/plain": [
       "[[], [], []]"
      ]
     },
     "execution_count": 5,
     "metadata": {},
     "output_type": "execute_result"
    }
   ],
   "source": [
    "m = [[1, 4, 7], [2, 5, 8]]\n",
    "mt = []\n",
    "for i in range(len(m[0])):\n",
    "    mt.append([])\n",
    "mt"
   ]
  },
  {
   "cell_type": "code",
   "execution_count": 21,
   "id": "a5cedc88-0362-4819-a6ad-ebf02d7f3475",
   "metadata": {},
   "outputs": [
    {
     "data": {
      "text/plain": [
       "'1   4   7'"
      ]
     },
     "execution_count": 21,
     "metadata": {},
     "output_type": "execute_result"
    }
   ],
   "source": [
    "v = str([1, 4, 7])\n",
    "\n",
    "new = ''\n",
    "for i in v:\n",
    "    if i.isdigit():\n",
    "        new += '   ' + i\n",
    "new.strip()"
   ]
  },
  {
   "cell_type": "code",
   "execution_count": 28,
   "id": "2c9566bb",
   "metadata": {},
   "outputs": [
    {
     "data": {
      "text/plain": [
       "['(1   33   5)', '(2   4   64)']"
      ]
     },
     "execution_count": 28,
     "metadata": {},
     "output_type": "execute_result"
    }
   ],
   "source": [
    "newm = [[1, 33, 5], [2, 4, 64]]\n",
    "result = []\n",
    "for i in range(len(newm)):\n",
    "    val_r = ''\n",
    "    \n",
    "    for j in range(len(newm[i])):\n",
    "        val_r += '   ' + str(newm[i][j])\n",
    "    \n",
    "    result.append('(' + val_r.strip() + ')')\n",
    "\n",
    "\n",
    "result"
   ]
  },
  {
   "cell_type": "code",
   "execution_count": 39,
   "id": "9d66cfff",
   "metadata": {},
   "outputs": [
    {
     "name": "stdout",
     "output_type": "stream",
     "text": [
      "(1    2 )\n",
      "(33   4 )\n",
      "(5    64)\n"
     ]
    }
   ],
   "source": [
    "def add_spaces(max_length, result):\n",
    "    for row in result:\n",
    "        if len(row) < max_length:\n",
    "            spaces = max_length - len(row)\n",
    "            row += ' ' * spaces\n",
    "    return result\n",
    "\n",
    "\n",
    "matrix_result = [[1, 33, 5], [2, 4, 64]]\n",
    "result = []\n",
    "for i in range(len(matrix_result[0])):\n",
    "    result.append([''])\n",
    "\n",
    "for i in range(len(matrix_result)):\n",
    "    line = ''\n",
    "    for j in range(len(matrix_result[i])):\n",
    "        result[j] += '   ' + str(matrix_result[i][j])\n",
    "\n",
    "    length_of_string = [len(k) for k in result] \n",
    "    result = add_spaces(max(length_of_string), result)\n",
    "    \n",
    "    \n",
    "\n",
    "\n",
    "for row in result:\n",
    "    print('(' + (''.join(row)).lstrip() + ')')\n",
    "#length_of_string\n",
    "\n",
    "\n"
   ]
  },
  {
   "cell_type": "code",
   "execution_count": null,
   "id": "6df46e9b",
   "metadata": {},
   "outputs": [],
   "source": [
    "\n",
    "matrix_result = m1.transpose_matrix(newm)\n",
    "result = []\n",
    "for i in range(len(matrix_result)):\n",
    "    val_r = ''\n",
    "    for j in range(len(matrix_result[i])):\n",
    "        val_r += '   ' + str(matrix_result[i][j])\n",
    "    result.append('(' + val_r.strip() + ')')"
   ]
  }
 ],
 "metadata": {
  "kernelspec": {
   "display_name": "Python 3.9.12 ('base')",
   "language": "python",
   "name": "python3"
  },
  "language_info": {
   "codemirror_mode": {
    "name": "ipython",
    "version": 3
   },
   "file_extension": ".py",
   "mimetype": "text/x-python",
   "name": "python",
   "nbconvert_exporter": "python",
   "pygments_lexer": "ipython3",
   "version": "3.9.12"
  },
  "vscode": {
   "interpreter": {
    "hash": "e55932ac3ade459aba9d28258c896c3733e12efbd65b1f13e600628c506d5d2e"
   }
  }
 },
 "nbformat": 4,
 "nbformat_minor": 5
}
